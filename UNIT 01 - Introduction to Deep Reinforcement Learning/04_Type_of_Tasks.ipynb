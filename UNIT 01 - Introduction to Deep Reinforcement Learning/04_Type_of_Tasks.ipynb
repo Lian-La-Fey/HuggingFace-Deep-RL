{
 "cells": [
  {
   "cell_type": "markdown",
   "metadata": {
    "vscode": {
     "languageId": "plaintext"
    }
   },
   "source": [
    "# Type of tasks\n",
    "\n",
    "Bir görev, Reinforcement Learning probleminin bir örneğidir. İki tür görevimiz olabilir: epizodik ve sürekli."
   ]
  },
  {
   "cell_type": "markdown",
   "metadata": {
    "vscode": {
     "languageId": "plaintext"
    }
   },
   "source": [
    "## Episodic task\n",
    "\n",
    "Bu durumda, **bir başlangıç noktamız ve bir bitiş noktamız (bir son durum) vardır**. Bu bir bölüm oluşturur: State'ler, Action'lar, Reward'lar ve yeni State'lerin bir listesi.\n",
    "\n",
    "Örneğin, Super Mario Bros'u düşünün: bir bölüm yeni bir Mario Seviyesinin başlatılmasıyla başlar ve öldürüldüğünüzde veya seviyenin sonuna ulaştığınızda sona erer.\n",
    "\n",
    "![image1](https://huggingface.co/datasets/huggingface-deep-rl-course/course-images/resolve/main/en/unit1/mario.jpg)"
   ]
  },
  {
   "cell_type": "markdown",
   "metadata": {
    "vscode": {
     "languageId": "plaintext"
    }
   },
   "source": [
    "## Continuing tasks\n",
    "\n",
    "**Bunlar sonsuza kadar devam eden görevlerdir (son durum yoktur)**. Bu durumda, ajan en iyi eylemleri nasıl seçeceğini ve aynı anda çevreyle nasıl etkileşime gireceğini öğrenmelidir.\n",
    "\n",
    "Örneğin, otomatik hisse senedi ticareti yapan bir ajan. Bu görev için başlangıç noktası ve son durum yoktur. Biz onu durdurmaya karar verene kadar ajan çalışmaya devam eder.\n",
    "\n",
    "![image2](https://huggingface.co/datasets/huggingface-deep-rl-course/course-images/resolve/main/en/unit1/stock.jpg)"
   ]
  },
  {
   "cell_type": "markdown",
   "metadata": {
    "vscode": {
     "languageId": "plaintext"
    }
   },
   "source": [
    "Özetlemek gerekirse:\n",
    "\n",
    "![image3](https://huggingface.co/datasets/huggingface-deep-rl-course/course-images/resolve/main/en/unit1/tasks.jpg)"
   ]
  }
 ],
 "metadata": {
  "language_info": {
   "name": "python"
  }
 },
 "nbformat": 4,
 "nbformat_minor": 2
}
