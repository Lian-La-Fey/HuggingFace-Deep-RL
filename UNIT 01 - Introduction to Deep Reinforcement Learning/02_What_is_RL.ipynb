{
 "cells": [
  {
   "cell_type": "markdown",
   "metadata": {
    "vscode": {
     "languageId": "plaintext"
    }
   },
   "source": [
    "# What is Reinforcement Learning?\n",
    "\n",
    "Reinforcement Learning'i anlamak için büyük resimle başlayalım.\n",
    "\n",
    "## The big picture\n",
    "\n",
    "Reinforcement Learning'in arkasındaki fikir, bir ajanın (bir AI) çevre ile etkileşime girerek (deneme yanılma yoluyla) ve eylemleri gerçekleştirmek için geri bildirim olarak ödüller (negatif veya pozitif) alarak öğrenmesidir.\n",
    "\n",
    "Çevre ile etkileşimlerden öğrenme doğal deneyimlerimizden gelir.\n",
    "\n",
    "Örneğin, küçük kardeşinizi hiç oynamadığı bir video oyununun önüne koyduğunuzu, ona bir kontrol cihazı verdiğinizi ve onu yalnız bıraktığınızı düşünün.\n",
    "\n",
    "![image2](https://huggingface.co/datasets/huggingface-deep-rl-course/course-images/resolve/main/en/unit1/Illustration_1.jpg)\n",
    "\n",
    "Kardeşiniz sağ tuşa basarak (eylem) çevreyle (video oyunu) etkileşime girecek. Bir jeton aldı, bu +1 ödüldür. Bu olumlu, sadece bu oyunda madeni paraları alması gerektiğini anladı.\n",
    "\n",
    "![image3](https://huggingface.co/datasets/huggingface-deep-rl-course/course-images/resolve/main/en/unit1/Illustration_2.jpg)\n",
    "\n",
    "Ama sonra tekrar sağ tuşa basıyor ve bir düşmana dokunuyor. Az önce öldü, yani bu -1 ödül.\n",
    "\n",
    "![image4](https://huggingface.co/datasets/huggingface-deep-rl-course/course-images/resolve/main/en/unit1/Illustration_3.jpg)\n",
    "\n",
    "Küçük kardeşiniz deneme yanılma yoluyla çevresiyle etkileşime girerek, bu ortamda para kazanması ama düşmanlardan kaçınması gerektiğini anlar.\n",
    "\n",
    "Herhangi bir gözetim olmadan, çocuk oyunu oynamada gittikçe daha iyi hale gelecektir.\n",
    "\n",
    "İnsanlar ve hayvanlar etkileşim yoluyla bu şekilde öğrenirler. Reinforcement Learning, eylemlerden öğrenmenin sadece hesaplamalı bir yaklaşımıdır.\n",
    "\n",
    "### A formal definition\n",
    "\n",
    "Reinforcement learning, deneme yanılma yoluyla etkileşime girerek ve benzersiz geri bildirim olarak ödüller (olumlu veya olumsuz) alarak çevreden öğrenen ajanlar oluşturarak kontrol görevlerini (karar problemleri olarak da adlandırılır) çözmek için bir framework'tür."
   ]
  }
 ],
 "metadata": {
  "language_info": {
   "name": "python"
  }
 },
 "nbformat": 4,
 "nbformat_minor": 2
}
