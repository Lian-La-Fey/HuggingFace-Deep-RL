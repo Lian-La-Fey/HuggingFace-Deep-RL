{
 "cells": [
  {
   "cell_type": "markdown",
   "metadata": {},
   "source": [
    "# Introduction to Deep Reinforcement Learning\n",
    "\n",
    "Welcome to the most fascinating topic in Artificial Intelligence: **Deep Reinforcement Learning.**\n",
    "\n",
    "Deep RL is a type of Machine Learning where an **agent learns how to behave** in an environment **by performing actions** and **seeing the results**.\n",
    "\n",
    "In this first unit, you’ll learn the foundations of Deep Reinforcement Learning.\n",
    "\n",
    "Then, you’ll **train your Deep Reinforcement Learning agent, a lunar lander to land correctly on the Moon using Stable-Baselines3**, a Deep Reinforcement Learning library.\n",
    "\n",
    "![image1](https://huggingface.co/datasets/huggingface-deep-rl-course/course-images/resolve/main/en/unit1/lunarLander.gif)\n",
    "\n",
    "Ve son olarak, bu eğitilmiş aracıyı, insanların makine öğrenimi modellerini, veri kümelerini ve demolarını paylaşabileceği ücretsiz, açık bir platform olan Hugging Face Hub'a yükleyeceksiniz.\n",
    "\n",
    " Deep Reinforcement Learning aracılarını uygulamaya başlamadan önce bu unsurlarda uzmanlaşmak çok önemlidir. Bu bölümün amacı size sağlam temeller vermektir.\n",
    "\n",
    "Bu üniteden sonra, bonus ünitede, Köpek Huggy'yi sopayı getirmesi ve onunla oynaması için eğitebileceksiniz."
   ]
  }
 ],
 "metadata": {
  "language_info": {
   "name": "python"
  }
 },
 "nbformat": 4,
 "nbformat_minor": 2
}
