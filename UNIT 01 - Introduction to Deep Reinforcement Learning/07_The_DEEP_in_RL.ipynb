{
 "cells": [
  {
   "cell_type": "markdown",
   "metadata": {},
   "source": [
    "# The “Deep” in Reinforcement Learning\n",
    "\n",
    "Deep Reinforcement Learning, Reinforcement Learning problemlerini çözmek için derin sinir ağlarını tanıtır - dolayısıyla \"derin\" adı.\n",
    "\n",
    "Örneğin, bir sonraki ünitede, iki değer tabanlı algoritma hakkında bilgi edineceğiz: Q-Learning (klasik Takviyeli Öğrenme) ve ardından Derin Q-Learning.\n",
    "\n",
    "İlk yaklaşımda, her bir durum için hangi eylemi gerçekleştireceğimizi bulmamıza yardımcı olan bir Q tablosu oluşturmak için geleneksel bir algoritma kullandığımızı göreceksiniz.\n",
    "\n",
    "İkinci yaklaşımda, bir Sinir Ağı kullanacağız (Q değerine yaklaşmak için).\n",
    "\n",
    "![image1](https://huggingface.co/datasets/huggingface-deep-rl-course/course-images/resolve/main/en/unit1/deep.jpg)\n",
    "\n",
    "Derin Öğrenmeye aşina değilseniz [FastAI Practical Deep Learning for Coders](https://course.fast.ai/) programını mutlaka izlemelisiniz."
   ]
  }
 ],
 "metadata": {
  "language_info": {
   "name": "python"
  }
 },
 "nbformat": 4,
 "nbformat_minor": 2
}
