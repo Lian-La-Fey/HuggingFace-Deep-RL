{
 "cells": [
  {
   "cell_type": "markdown",
   "metadata": {},
   "source": [
    "# **Introduction**\n",
    "\n",
    "Bu bonus ünitede, Köpek Huggy'ye sopayı getirmeyi öğreterek ilk ünitede öğrendiklerimizi pekiştireceğiz ve ardından onunla doğrudan tarayıcınızda oynayacağız 🐶\n",
    "\n",
    "![image1](https://huggingface.co/datasets/huggingface-deep-rl-course/course-images/resolve/main/en/unit2/thumbnail.png)"
   ]
  },
  {
   "cell_type": "markdown",
   "metadata": {
    "vscode": {
     "languageId": "plaintext"
    }
   },
   "source": [
    "# How Huggy works\n",
    "\n",
    "Huggy, Hugging Face tarafından yapılan ve **Unity MLAgents** ekibinin bir projesi olan Puppo the Corgi'yi temel alan bir DRL ortamıdır. Bu ortam **Unity oyun motoru** ve **MLAgents** kullanılarak oluşturulmuştur. ML-Agents, Unity kullanarak ortamlar **oluşturmamıza veya ajanlarımızı eğitmek için önceden hazırlanmış ortamları kullanmamıza olanak tanıyan Unity oyun motoru için bir araç setidir**.\n",
    "\n",
    "![image2](https://huggingface.co/datasets/huggingface-deep-rl-course/course-images/resolve/main/en/notebooks/unit-bonus1/huggy.jpg)\n",
    "\n",
    "Bu ortamda Huggy'yi attığımız sopayı getirmesi için eğitmeyi amaçlıyoruz. **Bu da sopaya doğru doğru hareket etmesi gerektiği anlamına geliyor**."
   ]
  },
  {
   "cell_type": "markdown",
   "metadata": {
    "vscode": {
     "languageId": "plaintext"
    }
   },
   "source": [
    "## The State Space, what Huggy perceives.\n",
    "\n",
    "Huggy çevresini \"görmez\". Bunun yerine, ona çevre hakkında bilgi sağlarız:\n",
    "\n",
    "- Hedefin (çubuğun) konumu \n",
    "- Kendisi ile hedef arasındaki göreceli konum \n",
    "- Bacaklarının yönü \n",
    "\n",
    "Tüm bu bilgiler göz önüne alındığında, Huggy hedefine ulaşmak için hangi eylemi gerçekleştireceğini belirlemek için politikasını kullanabilir.\n"
   ]
  },
  {
   "cell_type": "markdown",
   "metadata": {
    "vscode": {
     "languageId": "plaintext"
    }
   },
   "source": [
    "## The Action Space, what moves Huggy can perform\n",
    "\n",
    "![image3](https://huggingface.co/datasets/huggingface-deep-rl-course/course-images/resolve/main/en/notebooks/unit-bonus1/huggy-action.jpg)\n",
    "\n",
    "Eklem motorları Huggy'nin bacaklarını hareket ettirir. Bu da hedefe ulaşmak için Huggy'nin hareket edebilmesi için her bir bacağının eklem motorlarını doğru şekilde döndürmeyi öğrenmesi gerektiği anlamına geliyor."
   ]
  },
  {
   "cell_type": "markdown",
   "metadata": {
    "vscode": {
     "languageId": "plaintext"
    }
   },
   "source": [
    "## The Reward Function\n",
    "\n",
    "Ödül fonksiyonu, Huggy'nin hedefini gerçekleştirmesi için tasarlanmıştır: sopayı getirmesi.\n",
    "\n",
    "RL'nin temellerinden birinin ödül hipotezi olduğunu unutmayın: bir hedef, **beklenen kümülatif ödülün maksimizasyonu olarak tanımlanabilir**.\n",
    "\n",
    "Burada amacımız Huggy'nin sopaya doğru gitmesi ancak çok fazla dönmemesidir. Dolayısıyla, ödül fonksiyonumuz bu hedefi tercüme etmelidir.\n",
    "\n",
    "Ödül fonksiyonumuz:\n",
    "\n",
    "![image4](https://huggingface.co/datasets/huggingface-deep-rl-course/course-images/resolve/main/en/notebooks/unit-bonus1/reward.jpg)\n",
    "\n",
    "- Orientation bonus: **Hedefe yaklaştığı için onu ödüllendir**iyoruz.\n",
    "- Zaman cezası: **Onu çubuğa mümkün olduğunca hızlı ulaşmaya zorlamak** için her eylemde verilen sabit bir zaman cezası.\n",
    "- Dönme cezası: Huggy **çok fazla dönerse ve çok hızlı dönerse** onu cezalandırıyoruz.\n",
    "- Hedefe ulaşma ödülü: Huggy'yi **hedefe ulaş**tığı için ödüllendiriyoruz.\n",
    "\n",
    "Bu ödül fonksiyonunun matematiksel olarak nasıl göründüğünü görmek istiyorsanız, Puppo the Corgi sunumuna bakın."
   ]
  },
  {
   "cell_type": "markdown",
   "metadata": {
    "vscode": {
     "languageId": "plaintext"
    }
   },
   "source": [
    "## Train Huggy\n",
    "\n",
    "Huggy **hedefe doğru doğru ve mümkün olduğunca hızlı koşmayı öğrenmeyi** amaçlamaktadır. Bunu yapmak için, her adımda ve çevre gözlemi göz önüne alındığında, doğru şekilde (çok fazla dönmeden) ve hedefe doğru hareket etmek için bacaklarının her bir eklem motorunu nasıl döndüreceğine karar vermesi gerekir.\n",
    "\n",
    "Eğitim döngüsü şu şekildedir:\n",
    "\n",
    "![image5](https://huggingface.co/datasets/huggingface-deep-rl-course/course-images/resolve/main/en/notebooks/unit-bonus1/huggy-loop.jpg)\n",
    "\n",
    "Eğitim ortamı şu şekildedir:\n",
    "\n",
    "![imagr6](https://huggingface.co/datasets/huggingface-deep-rl-course/course-images/resolve/main/en/notebooks/unit-bonus1/training-env.jpg)\n",
    "\n",
    "Bir çubuğun rastgele ortaya çıktığı bir yer. Huggy oraya ulaştığında, çubuk başka bir yerde ortaya çıkıyor. Eğitim için ortamın birden fazla kopyasını oluşturduk. Bu, daha çeşitli deneyimler sağlayarak eğitimi hızlandırmaya yardımcı oluyor.\n",
    "\n",
    "Artık ortamın büyük resmine sahip olduğunuza göre, Huggy'yi çubuğu getirmesi için eğitmeye hazırsınız.\n",
    "\n",
    "Bunu yapmak için MLAgents kullanacağız. Daha önce hiç kullanmadıysanız endişelenmeyin. Bu ünitede Huggy'yi eğitmek için Google Colab'ı kullanacağız ve daha sonra eğittiğiniz Huggy'yi yükleyebilecek ve onunla doğrudan tarayıcıda oynayabileceksiniz.\n",
    "\n",
    "Gelecekteki bir ünitede, MLAgents'i daha derinlemesine inceleyeceğiz ve nasıl çalıştığını göreceğiz. Ancak şimdilik, sadece sağlanan uygulamayı kullanarak işleri basit tutuyoruz."
   ]
  }
 ],
 "metadata": {
  "language_info": {
   "name": "python"
  }
 },
 "nbformat": 4,
 "nbformat_minor": 2
}
